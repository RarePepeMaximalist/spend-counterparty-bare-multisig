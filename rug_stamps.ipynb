{
 "cells": [
  {
   "cell_type": "markdown",
   "id": "94f211f0-97ef-461c-a561-1c6b16a0a820",
   "metadata": {},
   "source": [
    "# How to Rug a Bitcoin Stamp\n",
    "\n",
    "## aka how to sweep Counterparty bare multisig outputs and reclaim your sats"
   ]
  },
  {
   "cell_type": "code",
   "execution_count": null,
   "id": "d8acc967-0888-4080-8dee-cd0bce0857d5",
   "metadata": {},
   "outputs": [],
   "source": [
    "!pip install pybtc"
   ]
  },
  {
   "cell_type": "code",
   "execution_count": null,
   "id": "a9b3f92c-52e6-4c10-8f59-31afe0eed2c2",
   "metadata": {},
   "outputs": [],
   "source": [
    "import requests\n",
    "from pybtc import *"
   ]
  },
  {
   "cell_type": "code",
   "execution_count": null,
   "id": "a615fea4-78c7-426a-a92b-7eb900d411d4",
   "metadata": {},
   "outputs": [],
   "source": [
    "INPUT_TRANSACTION_ID = 'txid that created the bare multisig outputs'\n",
    "PRIVATE_KEY = 'Private key can be obtained via freewallet by going to Address -> View Private Key'\n",
    "ADDRESS_TO_SEND_TO = 'address you want your reclaimed sats sent to'\n",
    "FEE_SATS = 50000  # Adjust me to set your mining fee"
   ]
  },
  {
   "cell_type": "code",
   "execution_count": null,
   "id": "2d173d32-138f-4412-8a04-2b553d2e2152",
   "metadata": {},
   "outputs": [],
   "source": [
    "# Retreive the bare multisig input transaction via mempool.space API\n",
    "input_tx = requests.get(f\"https://mempool.space/api/tx/{INPUT_TRANSACTION_ID}\").json()"
   ]
  },
  {
   "cell_type": "code",
   "execution_count": null,
   "id": "2a812dca-4725-4ee0-8158-0c130b323966",
   "metadata": {},
   "outputs": [],
   "source": [
    "# Construct a new transaction using the bare multisig outputs as inputs\n",
    "input_sats = 0\n",
    "tx = Transaction()\n",
    "#tx.rbf = True\n",
    "for n, prevout in enumerate(input_tx['vout']):\n",
    "    if prevout['scriptpubkey_type'] == 'multisig':\n",
    "        tx.add_input(input_txid, n)\n",
    "        input_sats += prevout['value']"
   ]
  },
  {
   "cell_type": "code",
   "execution_count": null,
   "id": "cd4e84af-f7e5-437d-a1a3-95498554eb4e",
   "metadata": {},
   "outputs": [],
   "source": [
    "# Calculate the output sats with the remainder going to mining fee\n",
    "output_sats = input_sats - FEE_SATS\n",
    "# Add an output to send the sats to our address\n",
    "tx.add_output(output_sats, address=ADDRESS_TO_SEND_TO)"
   ]
  },
  {
   "cell_type": "code",
   "execution_count": null,
   "id": "59142dcf-0196-4f95-b938-1a7b72f2ebbd",
   "metadata": {},
   "outputs": [],
   "source": [
    "# Sign each of the inputs using the private key from the counterparty wallet which created\n",
    "# the bare multisig outputs. By default counterparty locks the inputs using the pubkey from the\n",
    "# first input as the 1 valid key in it's 1 of 3 bare multisig outputs\n",
    "# https://docs.counterparty.io/docs/develop/api/#advanced-create_-parameters\n",
    "for n, vin in tx[\"vIn\"].items():\n",
    "    tx.sign_input(n, private_key=[PRIVATE_KEY], script_pub_key=input_tx['vout'][n]['scriptpubkey'])"
   ]
  },
  {
   "cell_type": "code",
   "execution_count": null,
   "id": "1005ef93-2e59-4a3b-9be5-dd5ce3bb8021",
   "metadata": {},
   "outputs": [],
   "source": [
    "# Serialize the transaction\n",
    "# This transcation can now be copy and pasted into Sparrow Wallet for inspection and broadcast using the\n",
    "# File -> Open Transaction -> From Text feature\n",
    "tx.serialize()"
   ]
  },
  {
   "cell_type": "code",
   "execution_count": null,
   "id": "c54bae49-e029-4d8e-9920-013b86db6e97",
   "metadata": {},
   "outputs": [],
   "source": []
  }
 ],
 "metadata": {
  "kernelspec": {
   "display_name": "Python 3 (ipykernel)",
   "language": "python",
   "name": "python3"
  },
  "language_info": {
   "codemirror_mode": {
    "name": "ipython",
    "version": 3
   },
   "file_extension": ".py",
   "mimetype": "text/x-python",
   "name": "python",
   "nbconvert_exporter": "python",
   "pygments_lexer": "ipython3",
   "version": "3.10.9"
  }
 },
 "nbformat": 4,
 "nbformat_minor": 5
}
